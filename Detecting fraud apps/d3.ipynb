{
 "cells": [
  {
   "cell_type": "code",
   "execution_count": null,
   "metadata": {},
   "outputs": [],
   "source": [
    "model.score(x_test, y_test)"
   ]
  },
  {
   "cell_type": "code",
   "execution_count": null,
   "metadata": {},
   "outputs": [],
   "source": [
    "model.predict(vec.transform(['I love this app !!!']))"
   ]
  },
  {
   "cell_type": "code",
   "execution_count": null,
   "metadata": {},
   "outputs": [],
   "source": [
    "# Save model\n",
    "joblib.dump(model,'model.pkl')\n"
   ]
  },
  {
   "cell_type": "code",
   "execution_count": null,
   "metadata": {},
   "outputs": [],
   "source": [
    "%matplotlib inline\n",
    "import matplotlib.pyplot as plt\n"
   ]
  },
  {
   "cell_type": "code",
   "execution_count": null,
   "metadata": {},
   "outputs": [],
   "source": [
    "import textblob\n",
    "from textblob import TextBlob\n",
    "\n",
    "def percentage(part,whole):\n",
    "  return 100*float(part)/float(whole)\n",
    "\n",
    "inp = input(\"Enter something:\")\n",
    "\n",
    "\n",
    "positive = 0\n",
    "negative = 0\n",
    "neutral = 0\n",
    "polarity = 0\n",
    "\n",
    "\n",
    "for word in inp:\n",
    "analyzer = TextBlob(word)\n",
    " polarity += analyzer.sentiment.polarity\n",
    "\n",
    "  if analyzer.sentiment.polarity> 0:\n",
    "positive += 1\n",
    "elifanalyzer.sentiment.polarity< 0:\n",
    " negative += 1\n",
    "elifanalyzer.sentiment.polarity == 0:\n",
    " neutral += 1\n",
    "\n",
    "positive = percentage(positive,(positive + negative + neutral))\n",
    "negative = percentage(negative,(positive + negative + neutral))\n",
    "neutral = percentage(neutral,(positive + negative + neutral))\n",
    "\n",
    "positive = float(format(positive, '.2f'))\n",
    "negative = format(negative,'.2f')\n",
    "neutral =format(neutral,'.2f')\n",
    "\n",
    "if (polarity > 0):\n",
    "    print(\"Positive\")\n",
    "elif (polarity < 0):\n",
    "    print(\"Negative\")\n",
    "elif (polarity == 0):\n",
    "    print(\"Neutral\")\n",
    "\n",
    "labels = ['Positive ['+str(positive)+'%]', 'Negative ['+str(negative)+'%]', \n",
    "'Neutral ['+str(neutral)+'%]']\n",
    "sizes = [positive, negative, neutral]\n",
    "colors = ['blue','red','yellow']\n",
    "patches, texts = plt.pie(sizes, colors=colors, startangle=90)\n",
    "plt.legend(patches,labels,loc=\"best\")\n",
    "plt.title(\"Polarity Pie Chart\")\n",
    "plt.axis('equal')\n",
    "plt.tight_layout()\n",
    "plt.show()\n",
    "\n"
   ]
  }
 ],
 "metadata": {
  "kernelspec": {
   "display_name": "Python 3",
   "language": "python",
   "name": "python3"
  },
  "language_info": {
   "codemirror_mode": {
    "name": "ipython",
    "version": 3
   },
   "file_extension": ".py",
   "mimetype": "text/x-python",
   "name": "python",
   "nbconvert_exporter": "python",
   "pygments_lexer": "ipython3",
   "version": "3.7.4"
  }
 },
 "nbformat": 4,
 "nbformat_minor": 2
}
